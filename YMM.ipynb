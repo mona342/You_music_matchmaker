{
 "cells": [
  {
   "cell_type": "code",
   "execution_count": null,
   "id": "1c61ea4d",
   "metadata": {},
   "outputs": [],
   "source": [
    "!pip install spotipy"
   ]
  },
  {
   "cell_type": "code",
   "execution_count": null,
   "id": "8dcde390",
   "metadata": {},
   "outputs": [],
   "source": [
    "import pandas as pd \n",
    "import numpy as np \n",
    "import seaborn as sns \n",
    "import plotly.express as px \n",
    "import matplotlib.pyplot as plt\n",
    "import nltk\n",
    "nltk.download('stopwords')\n",
    "from nltk.corpus import stopwords\n",
    "from wordcloud import WordCloud\n",
    "import matplotlib.pyplot as plt"
   ]
  },
  {
   "cell_type": "code",
   "execution_count": null,
   "id": "184ac277",
   "metadata": {},
   "outputs": [],
   "source": [
    "data = pd.read_csv(\"data.csv\")\n",
    "# Display the first two rows of the 'data' dataset\n",
    "data.head(2)"
   ]
  },
  {
   "cell_type": "code",
   "execution_count": null,
   "id": "19146efa",
   "metadata": {},
   "outputs": [],
   "source": [
    "genre_data = pd.read_csv('data_by_genres.csv')\n",
    "# Display the first two rows of the 'genre_data' dataset\n",
    "genre_data.head(2)"
   ]
  },
  {
   "cell_type": "code",
   "execution_count": null,
   "id": "d1509b55",
   "metadata": {},
   "outputs": [],
   "source": [
    "year_data = pd.read_csv('data_by_year.csv')\n",
    "# Display the first two rows of the 'year_data' dataset\n",
    "year_data.head(2)"
   ]
  },
  {
   "cell_type": "code",
   "execution_count": null,
   "id": "6a4cc8cf",
   "metadata": {},
   "outputs": [],
   "source": [
    "artist_data=pd.read_csv(\"data_by_artist.csv\")\n",
    "# Display the first two rows of the 'artist_data' dataset\n",
    "artist_data.head(2)"
   ]
  },
  {
   "cell_type": "code",
   "execution_count": null,
   "id": "14f31516",
   "metadata": {},
   "outputs": [],
   "source": [
    "# Create a decade column using apply() and a lambda function\n",
    "data['decade'] = data['year'].apply(lambda year: (year // 10) * 10)\n",
    "\n",
    "# Display the updated data with the decade column\n",
    "print(data)"
   ]
  },
  {
   "cell_type": "code",
   "execution_count": null,
   "id": "9208ce29",
   "metadata": {},
   "outputs": [],
   "source": [
    "# Set the style of the plot\n",
    "sns.set(style='darkgrid')\n",
    "\n",
    "# Create the count plot\n",
    "sns.countplot(data['decade'])\n",
    "\n",
    "# Set the labels and title\n",
    "plt.xlabel('decade')\n",
    "plt.ylabel('count')\n",
    "plt.title('Distribution of Tracks across Decades')\n",
    "\n",
    "# Display the plot\n",
    "plt.show()"
   ]
  },
  {
   "cell_type": "code",
   "execution_count": null,
   "id": "bc248d95",
   "metadata": {},
   "outputs": [],
   "source": [
    "import plotly.express as px\n",
    "\n",
    "# Create the line plot\n",
    "fig = px.line(year_data, x='year', y=['acousticness', 'danceability', 'energy', 'instrumentalness', 'liveness', 'valence'],\n",
    "              title='Trend of various sound features over decades')\n",
    "\n",
    "# Display the plot\n",
    "fig.show()"
   ]
  },
  {
   "cell_type": "code",
   "execution_count": null,
   "id": "35f647d7",
   "metadata": {},
   "outputs": [],
   "source": [
    "# Create the line plot\n",
    "fig = px.line(year_data, x='year', y='loudness', title='Trend of loudness over decades')\n",
    "\n",
    "# Display the plot\n",
    "fig.show()"
   ]
  },
  {
   "cell_type": "code",
   "execution_count": null,
   "id": "1c9afd71",
   "metadata": {},
   "outputs": [],
   "source": [
    "# Identify the top 10 genres based on popularity\n",
    "top10_genres = genre_data.sort_values('popularity', ascending=False).head(10)\n",
    "\n",
    "# Create the grouped bar chart\n",
    "fig = px.bar(top10_genres, x='genres', y=['valence', 'energy', 'danceability', 'acousticness'], barmode='group', title='Trend of various sound features over top 10 genres')\n",
    "\n",
    "# Display the plot\n",
    "fig.show()"
   ]
  },
  {
   "cell_type": "code",
   "execution_count": null,
   "id": "42d6ace7",
   "metadata": {},
   "outputs": [],
   "source": [
    "#Concatenate all genres into a single string\n",
    "genres_text = ' '.join(genre_data['genres'])\n",
    "\n",
    "# Generate word cloud\n",
    "wordcloud = WordCloud(width=800, height=800, background_color='white',\n",
    "                      stopwords=None, max_words=40, min_font_size=10).generate(genres_text)\n",
    "\n",
    "# Display the word cloud\n",
    "plt.figure(figsize=(8, 8))\n",
    "plt.imshow(wordcloud, interpolation='bilinear')\n",
    "plt.axis('off')\n",
    "plt.show()"
   ]
  },
  {
   "cell_type": "code",
   "execution_count": null,
   "id": "2925fa43",
   "metadata": {},
   "outputs": [],
   "source": [
    "artist_data.head(20)"
   ]
  },
  {
   "cell_type": "code",
   "execution_count": null,
   "id": "3339f8ad",
   "metadata": {},
   "outputs": [],
   "source": [
    "def process_artist(artist):\n",
    "    if isinstance(artist, str):\n",
    "        return artist.split()[-1]\n",
    "    elif isinstance(artist, list):\n",
    "        return artist[-1]\n",
    "    else:\n",
    "        return None"
   ]
  },
  {
   "cell_type": "code",
   "execution_count": null,
   "id": "9c20a77c",
   "metadata": {},
   "outputs": [],
   "source": [
    "artists = artist_data['artists'].apply(process_artist).unique()\n",
    "artists"
   ]
  },
  {
   "cell_type": "code",
   "execution_count": null,
   "id": "11051c1f",
   "metadata": {},
   "outputs": [],
   "source": [
    "# Convert all the text data to lowercase\n",
    "artist_data['artists'] = artist_data['artists'].apply(lambda x: x.lower())\n",
    "\n",
    "# Replace newline characters and commas with spaces\n",
    "artist_data['artists'] = artist_data['artists'].apply(lambda x: x.replace('\\n', ' ').replace(',', ' '))\n",
    "\n",
    "# Tokenize the text data into individual words\n",
    "artist_data['artists'] = artist_data['artists'].apply(lambda x: x.split())"
   ]
  },
  {
   "cell_type": "code",
   "execution_count": null,
   "id": "5d09b68a",
   "metadata": {},
   "outputs": [],
   "source": [
    "# Convert the list of artists into a single string\n",
    "artist_words = ' '.join(artist_data['artists'].sum())\n",
    "\n",
    "# Remove stopwords and non-alphabetic words\n",
    "stopwords = set(stopwords.words('english'))\n",
    "comment_words = ' '.join([word for word in artist_words.split() if word not in stopwords and word.isalpha()])\n",
    "\n",
    "# Generate the word cloud visualization\n",
    "wordcloud = WordCloud(width=800, height=800, background_color='white', stopwords=stopwords, min_word_length=3, max_words=40, min_font_size=10).generate(comment_words)\n",
    "\n",
    "# Display the word cloud visualization\n",
    "plt.figure(figsize=(10, 7))\n",
    "plt.imshow(wordcloud, interpolation='bilinear')\n",
    "plt.axis('off')\n",
    "plt.show()"
   ]
  },
  {
   "cell_type": "code",
   "execution_count": null,
   "id": "84fd6680",
   "metadata": {},
   "outputs": [],
   "source": [
    "from collections import Counter\n",
    "# Use the Counter class from the collections module to count the occurrences of each artist\n",
    "artist_counts = Counter(artist_data['artists'].sum())\n",
    "\n",
    "# Convert the Counter object to a DataFrame\n",
    "artist_counts_df = pd.DataFrame(list(artist_counts.items()), columns=['artists', 'count'])\n",
    "\n",
    "# Display the top 10 artists with the most songs produced\n",
    "top10_most_song_produced_artists = artist_counts_df.sort_values('count', ascending=False).head(10)\n",
    "\n",
    "print(top10_most_song_produced_artists[['count','artists']])"
   ]
  },
  {
   "cell_type": "code",
   "execution_count": null,
   "id": "9fe684ea",
   "metadata": {},
   "outputs": [],
   "source": [
    "print('Top 10 Artists that had most popularity score:')\n",
    "top10_popular_artists[['popularity','artists']].sort_values('popularity',ascending=False)"
   ]
  },
  {
   "cell_type": "code",
   "execution_count": null,
   "id": "771d4949",
   "metadata": {
    "scrolled": true
   },
   "outputs": [],
   "source": []
  },
  {
   "cell_type": "code",
   "execution_count": null,
   "id": "c8b25376",
   "metadata": {},
   "outputs": [],
   "source": []
  }
 ],
 "metadata": {
  "kernelspec": {
   "display_name": "Python 3 (ipykernel)",
   "language": "python",
   "name": "python3"
  },
  "language_info": {
   "codemirror_mode": {
    "name": "ipython",
    "version": 3
   },
   "file_extension": ".py",
   "mimetype": "text/x-python",
   "name": "python",
   "nbconvert_exporter": "python",
   "pygments_lexer": "ipython3",
   "version": "3.11.4"
  }
 },
 "nbformat": 4,
 "nbformat_minor": 5
}
